{
 "cells": [
  {
   "cell_type": "markdown",
   "source": [
    "# Wavelet formulation of neural closure models for the incompressible Navier-Stokes equations"
   ],
   "metadata": {}
  },
  {
   "cell_type": "markdown",
   "source": [
    "## Running on Google Colab\n",
    "\n",
    "It seems you can get a certain number of GPU minutes for free if you have not done\n",
    "so previously. In that case, **now** is the moment to select `Select Runtime -> T4 GPU` in\n",
    "the top right corner (keep the Python runtime for now). This notebook also runs fine on\n",
    "the CPU if you leave it be.\n",
    "\n",
    "Once the right hardware is chosen, we install Julia using the official version\n",
    "manager Juliup.\n",
    "\n",
    "From the Python kernel, we can access the shell by starting a line with `!`."
   ],
   "metadata": {}
  },
  {
   "outputs": [],
   "cell_type": "code",
   "source": [
    "!curl -fsSL https://install.julialang.org | sh -s -- --yes"
   ],
   "metadata": {},
   "execution_count": null
  },
  {
   "cell_type": "markdown",
   "source": [
    "We can check that Julia is successfully installed on the Colab instance."
   ],
   "metadata": {}
  },
  {
   "outputs": [],
   "cell_type": "code",
   "source": [
    "!/root/.juliaup/bin/julia -e 'println(\"Hello\")'"
   ],
   "metadata": {},
   "execution_count": null
  },
  {
   "cell_type": "markdown",
   "source": [
    "We now proceed to install the necessary Julia packages, including `IJulia` which\n",
    "will add the Julia notebook kernel."
   ],
   "metadata": {}
  },
  {
   "outputs": [],
   "cell_type": "code",
   "source": [
    "%%shell\n",
    "/root/.juliaup/bin/julia -e '''\n",
    "    using Pkg\n",
    "    Pkg.add([\n",
    "        \"ComponentArrays\",\n",
    "        \"CUDA\",\n",
    "        \"FFTW\",\n",
    "        \"IJulia\",\n",
    "        \"LinearAlgebra\",\n",
    "        \"Lux\",\n",
    "        \"LuxCUDA\",\n",
    "        \"NNlib\",\n",
    "        \"Optimisers\",\n",
    "        \"Plots\",\n",
    "        \"Printf\",\n",
    "        \"Random\",\n",
    "        \"Zygote\",\n",
    "        \"Wavelets\",\n",
    "    ])\n",
    "'''"
   ],
   "metadata": {},
   "execution_count": null
  },
  {
   "cell_type": "markdown",
   "source": [
    "Once this is done, reload the browser page. In the top right corner, then select the Julia kernel."
   ],
   "metadata": {}
  },
  {
   "cell_type": "markdown",
   "source": [
    "## Discrete wavelet transform\n",
    "\n",
    "Wavelet transforms provide a powerful alternative to Fourier transforms for analyzing signals in both time and frequency domains.\n",
    "While Fourier transforms represent signals as sums of sinusoidal functions with constant frequency over time, wavelet transforms offer a more localized representation, capturing both frequency and temporal information simultaneously."
   ],
   "metadata": {}
  },
  {
   "cell_type": "markdown",
   "source": [
    "The discretized version of Wavelet transforms offer a powerful alternative to Fourier transforms, especially when dealing with 2D static images. In brief, while Fourier transforms are designed to represent signals in the frequency domain, they may struggle with localized features and abrupt changes in the pixel values. Wavelet transforms, on the other hand, excel in capturing such abrupt changes."
   ],
   "metadata": {}
  },
  {
   "cell_type": "markdown",
   "source": [
    "In this section, I want to introduce the discrete pseudo-wavelet space where only the spacial dependence of a function $u(x,t)$ is described in the wavelet space, in the same fashion as pseudo-spectal methods."
   ],
   "metadata": {}
  },
  {
   "cell_type": "markdown",
   "source": [
    "In essence, wavelet transforms decompose the function into its constituent components by using wavelet functions $\\psi_{jk}$:\n",
    "$$\n",
    "\\begin{align}\n",
    "u(x,t) = \\sum_{j\\in\\mathbb{Z},k \\in \\mathbb{Z}} \\hat{u}_{jk}(t) \\psi_{jk}(x),\n",
    "\\end{align}\n",
    "$$\n",
    "where $\\hat{u}_{jk}(t)$ are the (time-dependent) coefficients that represent $u$ on this (redundant) base. All the $\\psi_{jk}$ wavelets, are constructed using dyadic translations and dilatations of a mother wavelet $\\psi(x)$ as follows:\n",
    "\n",
    "$$\n",
    "\\begin{align}\n",
    "\\psi_{jk} &= 2^{-\\frac{j}{2}}\\psi(2^{-j} x-k).\n",
    "\\end{align}\n",
    "$$\n",
    "If $\\psi$ was a sinusoidal wave, due to its periodicity, it would not make much sense to introduce a secondary index like $k$, while all the base element could be characterized by a single index, representing the frequency. Instead, the mother wavelet is a non-periodic function, that is selected among a well-established library like the following:\n",
    "![alt text](../assets/wavelets.png)"
   ],
   "metadata": {}
  },
  {
   "cell_type": "markdown",
   "source": [
    "At this point we can understand the role of the indexes in $\\psi_{jk}$:\n",
    "* $j$ is the *scaling*:   $\\psi_{j+1,k}$ corresponds to $\\psi_{j,k}$ stretched by a factor $2$,\n",
    "* $k$ is the *shifting*:   $\\psi_{j,k+1}$ corresponds to $\\psi_{j,k}$ one grid step to the right.\n",
    "\n",
    "So, unlike the global nature of Fourier transforms, wavelets offer a localized representation that is particularly beneficial for extracting information from specific regions and details. This property makes wavelet transforms especially suitable for tasks such as image compression, denoising, and feature extraction."
   ],
   "metadata": {}
  },
  {
   "cell_type": "markdown",
   "source": [
    "However, the representation of eq.1 is not efficient, because (i) it is unboudned in $k$ and $j$, (ii) the wavelets at different level overlaps (so they are not a proper base) and (iii) the information is not sparse. These problesm can be solved with the introduction of multiresolution analysis (MRA)[^1]. In this notebook I will not give a proper introduction nor a general explanation to MRA, but I will only show you how it can be useful."
   ],
   "metadata": {}
  },
  {
   "cell_type": "markdown",
   "source": [
    "Briefly, in MRA we use a pyramidal decomposition on the signals onto a basis of orthonormal wavelets that progressively filter the data to accumulate information in an optimal way. Notice that this base will not only be signal-dependent, but it will also depend on:\n",
    "* the specific choice of the mother wavelet\n",
    "* the number of resolution scales to include in the analysis\n",
    "* the discretization of the data\n",
    "\n",
    "Luckily for us, the necessary operation are aleady implemented in modern packages like `Wavelets.jl`. In the next section, we will discuss some practical example and applications."
   ],
   "metadata": {}
  },
  {
   "cell_type": "markdown",
   "source": [
    "### Information in the wavelet coefficients"
   ],
   "metadata": {}
  },
  {
   "cell_type": "markdown",
   "source": [
    "We will look here at a specific wavelet representation that hopefully will be helpful to understand the idea behind DWT."
   ],
   "metadata": {}
  },
  {
   "cell_type": "markdown",
   "source": [
    "Load Pkg"
   ],
   "metadata": {}
  },
  {
   "outputs": [],
   "cell_type": "code",
   "source": [
    "using Pkg\n",
    "Pkg.add(\"Wavelets\")\n",
    "Pkg.add(\"WaveletsExt\")\n",
    "Pkg.add(\"TestImages\")\n",
    "Pkg.add(\"ImageIO\")\n",
    "Pkg.add(\"Plots\")\n",
    "Pkg.add(\"LinearAlgebra\")\n",
    "using TestImages, ImageIO, LinearAlgebra, Plots, Wavelets, WaveletsExt, Statistics"
   ],
   "metadata": {},
   "execution_count": null
  },
  {
   "cell_type": "markdown",
   "source": [
    "For this example, let's use Haar wavelet (step-function) defined as\n",
    "\n",
    "$$\n",
    "\\psi(t) =\n",
    "\\begin{cases}\n",
    "1, & \\text{if } 0 \\leq t < \\frac{1}{2} \\\\\n",
    "-1, & \\text{if } \\frac{1}{2} \\leq t < 1 \\\\\n",
    "0, & \\text{otherwise}\n",
    "\\end{cases}\n",
    "$$\n",
    "whose constructor is available in Wavelet.jl as"
   ],
   "metadata": {}
  },
  {
   "outputs": [],
   "cell_type": "code",
   "source": [
    "wt = wavelet(WT.haar)"
   ],
   "metadata": {},
   "execution_count": null
  },
  {
   "cell_type": "markdown",
   "source": [
    "We now generate 1D data"
   ],
   "metadata": {}
  },
  {
   "outputs": [],
   "cell_type": "code",
   "source": [
    "X = generatesignals(:heavisine, 5)"
   ],
   "metadata": {},
   "execution_count": null
  },
  {
   "cell_type": "markdown",
   "source": [
    "We then set the number of resolution scales that we want to use"
   ],
   "metadata": {}
  },
  {
   "outputs": [],
   "cell_type": "code",
   "source": [
    "L = 1"
   ],
   "metadata": {},
   "execution_count": null
  },
  {
   "cell_type": "markdown",
   "source": [
    "Notice that this number is limited by the Nyquist criterion to"
   ],
   "metadata": {}
  },
  {
   "outputs": [],
   "cell_type": "code",
   "source": [
    "Lmax = maxtransformlevels(X)"
   ],
   "metadata": {},
   "execution_count": null
  },
  {
   "cell_type": "markdown",
   "source": [
    "We apply the DWT alogorithm"
   ],
   "metadata": {}
  },
  {
   "outputs": [],
   "cell_type": "code",
   "source": [
    "Y = dwt(X, wt, L);"
   ],
   "metadata": {},
   "execution_count": null
  },
  {
   "cell_type": "markdown",
   "source": [
    "The output of L=1 DWT is a vector with the same lenght as X"
   ],
   "metadata": {}
  },
  {
   "outputs": [],
   "cell_type": "code",
   "source": [
    "length(X) == length(Y)"
   ],
   "metadata": {},
   "execution_count": null
  },
  {
   "cell_type": "markdown",
   "source": [
    "The definition of Y is specific for each wavelet and MRA level, and it is usually analitally calculated in the continuous limit [^1]. Such derivation is out of the scope of this notebook, where I will assume that the rules to perform DWT are available in the preferred softwares. For the specific case of Haar L=1 wavelets, I want to show you that the first half of the transformed signal Y is defined as\n",
    "$$\n",
    "Y_{i=1,...N/2} = \\frac{X_{2i-1} + X_{2i}}{\\sqrt{2}},\n",
    "$$\n",
    "as we can also confirm below"
   ],
   "metadata": {}
  },
  {
   "outputs": [],
   "cell_type": "code",
   "source": [
    "Y_low = Y[1:Int(end/2)]\n",
    "Y_definition = [X[i] + X[i+1] for i in 1:2:length(X)-1]/sqrt(2)\n",
    "definition_error = Y_low-Y_definition\n",
    "p0 = plot(Y_low, color=:grey, legend=false )\n",
    "p1 = plot(Y_definition, color=:grey, legend=false )\n",
    "p2 = plot(definition_error, color=:grey, legend=false )\n",
    "plot(p0, p1, p2, layout=(1, 3), title=[\"low-pass DWT\" \"low-pass Definition\" \"Diff\"], size=(900,300))\n",
    "savefig(\"assets/lowpass.png\")"
   ],
   "metadata": {},
   "execution_count": null
  },
  {
   "cell_type": "markdown",
   "source": [
    "![alt text](../assets/lowpass.png)"
   ],
   "metadata": {}
  },
  {
   "cell_type": "markdown",
   "source": [
    "So, for the L=1 Haar DWT, this first half of Y is the average of the signal X (except for a factor $\\sqrt{2}$). The first part of Y is also called the low-pass, because it is constructed to resonate with the low frequency part of the signal (the pseudo-average does this). We can already see that DWT is trying to localize the low-frequency information in the first part of this transformed signal Y."
   ],
   "metadata": {}
  },
  {
   "cell_type": "markdown",
   "source": [
    "The second part of Y, or respectively the high-pass, is defined for the specific Haar L=1 DWT to be\n",
    "$$\n",
    "Y_{i=1,...N/2} = \\frac{-X_{2i-1} + X_{2i+1}}{\\sqrt{2}},\n",
    "$$\n",
    "as we can also confirm below"
   ],
   "metadata": {}
  },
  {
   "outputs": [],
   "cell_type": "code",
   "source": [
    "Y_high = Y[Int(end/2)+1:end]\n",
    "Y_definition = [-X[i] + X[i+1] for i in 1:2:length(X)-1]/sqrt(2)\n",
    "definition_error = Y_high-Y_definition\n",
    "p0 = plot(Y_high, color=:grey, legend=false )\n",
    "p1 = plot(Y_definition, color=:grey, legend=false )\n",
    "p2 = plot(definition_error, color=:grey, legend=false )\n",
    "plot(p0, p1, p2, layout=(1, 3), title=[\"high-pass DWT\" \"high-pass Definition\" \"Diff\"], size=(900,300))\n",
    "savefig(\"assets/highpass.png\")"
   ],
   "metadata": {},
   "execution_count": null
  },
  {
   "cell_type": "markdown",
   "source": [
    "![alt text](../assets/highpass.png)"
   ],
   "metadata": {}
  },
  {
   "cell_type": "markdown",
   "source": [
    "This defintion of the high-pass part resembles the difference between two consecutive elements of X. So, overall we can say that *L=1 Haar* is storing the information of X into a signal Y, where:\n",
    "* the first half of Y corresponds to the running 'averages' of X,\n",
    "* the second half of Y corresponds to the 'details' that we can use to reconstruct the original elements of X ."
   ],
   "metadata": {}
  },
  {
   "cell_type": "markdown",
   "source": [
    "Finally let's look at how efficiently the signal is reconstructed from Y"
   ],
   "metadata": {}
  },
  {
   "outputs": [],
   "cell_type": "code",
   "source": [
    "X_rec = idwt(Y, wt, L);\n",
    "p0 = plot(X, color=:grey, legend=false )\n",
    "p1 = plot(Y, color=:grey, legend=false )\n",
    "p2 = plot(X_rec, color=:grey, legend=false )\n",
    "plot(p0, p1, p2, layout=(1, 3), title=[\"Original\" \"DWT\" \"Reconstruction\"], size=(900,300))\n",
    "savefig(\"assets/1dL1haar.png\")"
   ],
   "metadata": {},
   "execution_count": null
  },
  {
   "cell_type": "markdown",
   "source": [
    "![alt text](../assets/1dL1haar.png)\n",
    "\n",
    "notice also how in Y the largest fluctuations are confined to the first part."
   ],
   "metadata": {}
  },
  {
   "cell_type": "markdown",
   "source": [
    "#### Deeper DWT (L>1)\n",
    "\n",
    "We have just discussed how L=1 DWT works in the specific case of Haar wavelets. The next step is to understand how deeper transformations are performed in the pyramidal MRA scheme.\n",
    "The general idea of MRA, is to compress even more the low-frequency part, by applying the same transformation as L=1, but only on the 'average' (the low-pass) part. The pyramidal structure of this algorithm is well illustrated in the figure:\n",
    "\n",
    "![alt text](../assets/pyramidal.png)\n",
    "\n",
    "where we see the iterative structure of the L>1 DWT. The figure above in particular is showing the end result of Y for a L=3 DWT. You can see in the end the dyadic structure of Y, where the lowest frequencies is compressed in just Y[1:2], while the remainder of Y are the high frequency details to reconstruct X pyramidally."
   ],
   "metadata": {}
  },
  {
   "cell_type": "markdown",
   "source": [
    "To convince you a bit more about this pyramidal structure, I will explicitely look at the definition of the 'average' (low-pass) part at L=2"
   ],
   "metadata": {}
  },
  {
   "outputs": [],
   "cell_type": "code",
   "source": [
    "L = 1\n",
    "Y1 = dwt(X, wt, L);\n",
    "L = 2\n",
    "Y2 = dwt(X, wt, L);\n",
    "Y1_low = Y1[1:Int(end/2)]\n",
    "Y2_low = Y2[1:Int(end/4)]"
   ],
   "metadata": {},
   "execution_count": null
  },
  {
   "cell_type": "markdown",
   "source": [
    "we define the lowpass filter in the same way that we did for L=1"
   ],
   "metadata": {}
  },
  {
   "outputs": [],
   "cell_type": "code",
   "source": [
    "Y2_definition = [Y1[i] + Y1[i+1] for i in 1:2:length(Y1_low)-1]/sqrt(2)\n",
    "p0 = plot(Y1_low, color=:grey, legend=false )\n",
    "p1 = plot(Y2_low, color=:grey, legend=false )\n",
    "p2 = plot(Y2_definition, color=:grey, legend=false )\n",
    "plot(p0, p1, p2, layout=(1, 3), title=[\"low-pass L1 DWT\" \"low-pass L2 DWT\" \"low-pass L2 Definition\"], size=(900,300))\n",
    "savefig(\"assets/l2lowpass.png\")"
   ],
   "metadata": {},
   "execution_count": null
  },
  {
   "cell_type": "markdown",
   "source": [
    "![alt text](../assets/l2lowpass.png)\n",
    "\n",
    "At this point, it is not difficult to understand the full pyramidal structure of DWT, once the structrue for the L=1 level is known."
   ],
   "metadata": {}
  },
  {
   "cell_type": "markdown",
   "source": [
    "The final example that I want to report is about 2D data. The only difference in 2D is that row and columns are transformed separately, so we get the following structure:\n",
    "\n",
    "![alt text](../assets/2dpyramidal.png)"
   ],
   "metadata": {}
  },
  {
   "cell_type": "markdown",
   "source": [
    "### Dimensionality reduction with wavelets\n",
    "\n",
    "We now show how the wavelet representation is efficient in comspressing information."
   ],
   "metadata": {}
  },
  {
   "cell_type": "markdown",
   "source": [
    "Load data"
   ],
   "metadata": {}
  },
  {
   "outputs": [],
   "cell_type": "code",
   "source": [
    "ximg = testimage(\"cameraman\");\n",
    "X = convert(Array{Float64}, ximg);"
   ],
   "metadata": {},
   "execution_count": null
  },
  {
   "cell_type": "markdown",
   "source": [
    "First we look at a standard FFT approach for comparison"
   ],
   "metadata": {}
  },
  {
   "outputs": [],
   "cell_type": "code",
   "source": [
    "Pkg.add(\"AbstractFFTs\")\n",
    "using AbstractFFTs"
   ],
   "metadata": {},
   "execution_count": null
  },
  {
   "cell_type": "markdown",
   "source": [
    "FFT transform"
   ],
   "metadata": {}
  },
  {
   "outputs": [],
   "cell_type": "code",
   "source": [
    "Xk = fft(X)"
   ],
   "metadata": {},
   "execution_count": null
  },
  {
   "cell_type": "markdown",
   "source": [
    "and invert"
   ],
   "metadata": {}
  },
  {
   "outputs": [],
   "cell_type": "code",
   "source": [
    "Xrec = real.(ifft(Xk))"
   ],
   "metadata": {},
   "execution_count": null
  },
  {
   "cell_type": "markdown",
   "source": [
    "In FFT, the coefficents of the transform Xk are the projection of X on the discrete Fourier basis. While this has computational advantages (we will see later), it also means that the information is stored per global frequency bands. To understand what it means, let's remove the entire high frequency part of standard FFT"
   ],
   "metadata": {}
  },
  {
   "outputs": [],
   "cell_type": "code",
   "source": [
    "Xk_cut = copy(Xk)"
   ],
   "metadata": {},
   "execution_count": null
  },
  {
   "cell_type": "markdown",
   "source": [
    "cut the high frequency modes"
   ],
   "metadata": {}
  },
  {
   "outputs": [],
   "cell_type": "code",
   "source": [
    "Xk_cut[Int(end/2):end, Int(end/2):end] .= 0"
   ],
   "metadata": {},
   "execution_count": null
  },
  {
   "cell_type": "markdown",
   "source": [
    "and invert"
   ],
   "metadata": {}
  },
  {
   "outputs": [],
   "cell_type": "code",
   "source": [
    "Xrec_cut = real.(ifft(Xk_cut))"
   ],
   "metadata": {},
   "execution_count": null
  },
  {
   "cell_type": "markdown",
   "source": [
    "Compute the reconstruction error"
   ],
   "metadata": {}
  },
  {
   "outputs": [],
   "cell_type": "code",
   "source": [
    "reconstruction_error = abs.(X-Xrec)\n",
    "reconstruction_error_cut = abs.(X-Xrec_cut)"
   ],
   "metadata": {},
   "execution_count": null
  },
  {
   "cell_type": "markdown",
   "source": [
    "and finally we plot the results"
   ],
   "metadata": {}
  },
  {
   "outputs": [],
   "cell_type": "code",
   "source": [
    "p0 = heatmap(X, yflip=true, color=:greys, legend=false, xaxis=false, yaxis=false, xticks=false, yticks=false);\n",
    "p1 = heatmap(Xrec, yflip=true, color=:greys, legend=false, xaxis=false, yaxis=false, xticks=false, yticks=false);\n",
    "p2 = heatmap(reconstruction_error, yflip=true, color=:reds, legend=false, xaxis=false, yaxis=false, xticks=false, yticks=false);\n",
    "p3 = heatmap(Xrec_cut, yflip=true, color=:greys, legend=false, xaxis=false, yaxis=false, xticks=false, yticks=false);\n",
    "p4 = heatmap(reconstruction_error_cut, yflip=true, color=:reds, legend=false, xaxis=false, yaxis=false, xticks=false, yticks=false);\n",
    "plot(p0, p1, p2, p0, p3, p4, layout=(2,3), title=[\"Original\" \"Reconstruct FFT\" \"Error reconstruction\" \"Original\" \"Reconstruct FFT (with cutoff)\" \"Error (with cutoff)\"], size=(900,600))\n",
    "savefig(\"assets/fourier_cut.png\")"
   ],
   "metadata": {},
   "execution_count": null
  },
  {
   "cell_type": "markdown",
   "source": [
    "![alt text](../assets/fourier_cut.png)\n",
    "\n",
    "So if we cut the highest frequency modes of FFT, we get some visible error bands."
   ],
   "metadata": {}
  },
  {
   "cell_type": "markdown",
   "source": [
    "Now let's do the same thing with our L=1 Haar DWT"
   ],
   "metadata": {}
  },
  {
   "outputs": [],
   "cell_type": "code",
   "source": [
    "wt = wavelet(WT.haar)\n",
    "L = 1\n",
    "Xk = dwt(X, wt, L);\n",
    "Xrec = idwt(Xk, wt, L);"
   ],
   "metadata": {},
   "execution_count": null
  },
  {
   "cell_type": "markdown",
   "source": [
    "and also remove the high frequency part of the MRA"
   ],
   "metadata": {}
  },
  {
   "outputs": [],
   "cell_type": "code",
   "source": [
    "Xk_cut = copy(Xk)\n",
    "Xk_cut[Int(end/2):end, Int(end/2):end] .= 0\n",
    "Xrec_cut = idwt(Xk_cut, wt, L)"
   ],
   "metadata": {},
   "execution_count": null
  },
  {
   "cell_type": "markdown",
   "source": [
    "and plot the comparison"
   ],
   "metadata": {}
  },
  {
   "outputs": [],
   "cell_type": "code",
   "source": [
    "reconstruction_error = abs.(X-Xrec)\n",
    "reconstruction_error_cut = abs.(X-Xrec_cut)\n",
    "p0 = heatmap(X, yflip=true, color=:greys, legend=false, xaxis=false, yaxis=false, xticks=false, yticks=false);\n",
    "p1 = heatmap(Xrec, yflip=true, color=:greys, legend=false, xaxis=false, yaxis=false, xticks=false, yticks=false);\n",
    "p2 = heatmap(reconstruction_error, yflip=true, color=:reds, legend=false, xaxis=false, yaxis=false, xticks=false, yticks=false);\n",
    "p3 = heatmap(Xrec_cut, yflip=true, color=:greys, legend=false, xaxis=false, yaxis=false, xticks=false, yticks=false);\n",
    "p4 = heatmap(reconstruction_error_cut, yflip=true, color=:reds, legend=false, xaxis=false, yaxis=false, xticks=false, yticks=false);\n",
    "plot(p0, p1, p2, p0, p3, p4, layout=(2,3), title=[\"Original\" \"Reconstruct DWT\" \"Error reconstruction\" \"Original\" \"Reconstruct DWT (with cutoff)\" \"Error (with cutoff)\"], size=(900,600))\n",
    "savefig(\"assets/dwt_cut.png\")"
   ],
   "metadata": {},
   "execution_count": null
  },
  {
   "cell_type": "markdown",
   "source": [
    "![alt text](../assets/dwt_cut.png)\n",
    "\n",
    "Comparing the above DWT figure with the FFT, it is clear that DWT is less sensitive that FFT to an high-frequency cutoff. This happens because the information in MRA is stored in a more compact and efficient way, that also mantains the notion of locality, so cutting the high-frequency signal, does not lose high-frequency information everywhere equally."
   ],
   "metadata": {}
  },
  {
   "cell_type": "markdown",
   "source": [
    "However, there is a significant difference between FFT and DWT that has to be adressed. As we briefly mentioned, in FFT each coefficient of Xk corresponds to the respective projection of the signal on the Fourier mode. This means that equations in Fourier space can be easily solved as operations between matrices.\n",
    "Instead, the **coefficients of DWT are combinations of wavelets**. This means that while cutting a FFT element directly allows us to remove the corresponding base element from the representation, we can not do the same in DWT. In practice, DWT coefficients behave more like principal components of PCA, rather than the coordinate on an orthonormal basis. However notice that DWT is still a linear operation so $DWT[A+B]=DWT[A]+DWT[B],$ which is not the case for PCA."
   ],
   "metadata": {}
  },
  {
   "cell_type": "markdown",
   "source": [
    "Overall, the main consequence of this effect is that while functions in the wavelet space can be discretized to **fewer components than spectral space**, those components are **not fully orthogonal** to each other. This is problematic when we want to solve differential equations (for example the incompressible Navier Stokes) because the derivatives couple different components. In order to recover this orthogonality required for efficient computation, instead of using the full MRA representation, we can use a subset of wavelets derived from the best wavelet basis."
   ],
   "metadata": {}
  },
  {
   "cell_type": "markdown",
   "source": [
    "### Best wavelet basis\n",
    "\n",
    "When we represent functions in the wavelet space\n",
    "$$\n",
    "\\begin{align}\n",
    "u(x,t) = \\sum_{j\\in\\mathbb{Z},k \\in \\mathbb{Z}} \\hat{u}_{jk}(t) \\psi_{jk}(x),\n",
    "\\end{align}\n",
    "$$\n",
    "some of the wavelets $\\psi_{jk}(x)$ are redundant, because at different levels $j$ they cover the same space. While this redundant description is powerful to compress information thorugh DWT and MRA, it is not efficient for differential equations."
   ],
   "metadata": {}
  },
  {
   "cell_type": "markdown",
   "source": [
    "Let's now calculate the best wavelet basis for a set of 2D data X"
   ],
   "metadata": {}
  },
  {
   "outputs": [],
   "cell_type": "code",
   "source": [
    "Pkg.add(\"Images\")\n",
    "using Images\n",
    "img = testimage(\"cameraman\");\n",
    "img = imresize(img, (64, 64))"
   ],
   "metadata": {},
   "execution_count": null
  },
  {
   "cell_type": "markdown",
   "source": [
    "where X consists in n_copies of the same picures, with some noise"
   ],
   "metadata": {}
  },
  {
   "outputs": [],
   "cell_type": "code",
   "source": [
    "sqrtn_copies = 6\n",
    "n_copies = sqrtn_copies*sqrtn_copies\n",
    "x = convert(Array{Float64}, img);\n",
    "X = duplicatesignals(x, n_copies, 0, true, 0.1);"
   ],
   "metadata": {},
   "execution_count": null
  },
  {
   "cell_type": "markdown",
   "source": [
    "that we can also visualize"
   ],
   "metadata": {}
  },
  {
   "outputs": [],
   "cell_type": "code",
   "source": [
    "heatmaps = [heatmap(X[:,:,i], yflip=true, color=:greys, legend=false, xaxis=false, yaxis=false, xticks=false, yticks=false) for i in 1:n_copies];\n",
    "plot(heatmaps..., layout=(sqrtn_copies,sqrtn_copies), size=(600,600), suptitle=\"Signal with noise\")\n",
    "savefig(\"assets/noisedsignal.png\")"
   ],
   "metadata": {},
   "execution_count": null
  },
  {
   "cell_type": "markdown",
   "source": [
    "![alt text](../assets/noisedsignal.png)"
   ],
   "metadata": {}
  },
  {
   "cell_type": "markdown",
   "source": [
    "Next we select the mother wavelet that we want to use"
   ],
   "metadata": {}
  },
  {
   "outputs": [],
   "cell_type": "code",
   "source": [
    "wt = wavelet(WT.db8);"
   ],
   "metadata": {},
   "execution_count": null
  },
  {
   "cell_type": "markdown",
   "source": [
    "and the maximum resolution"
   ],
   "metadata": {}
  },
  {
   "outputs": [],
   "cell_type": "code",
   "source": [
    "L = 4"
   ],
   "metadata": {},
   "execution_count": null
  },
  {
   "cell_type": "markdown",
   "source": [
    "Now we get the full wavelet decomposition of each element"
   ],
   "metadata": {}
  },
  {
   "outputs": [],
   "cell_type": "code",
   "source": [
    "yw = wpdall(X, wt, L)"
   ],
   "metadata": {},
   "execution_count": null
  },
  {
   "cell_type": "markdown",
   "source": [
    "and we use this function to identify the best basis"
   ],
   "metadata": {}
  },
  {
   "outputs": [],
   "cell_type": "code",
   "source": [
    "bbtree = bestbasistree(yw, LSDB())"
   ],
   "metadata": {},
   "execution_count": null
  },
  {
   "cell_type": "markdown",
   "source": [
    "which in this case contains this number of wavelets"
   ],
   "metadata": {}
  },
  {
   "outputs": [],
   "cell_type": "code",
   "source": [
    "n_base = sum(bbtree)"
   ],
   "metadata": {},
   "execution_count": null
  },
  {
   "cell_type": "markdown",
   "source": [
    "Notice that the size of the base depends on which resolution level is required for each portion of the data. So overall there is a tradeoff between precision and number of elements in the base.\n",
    "\n",
    "We can show here what is the best basis for our data"
   ],
   "metadata": {}
  },
  {
   "outputs": [],
   "cell_type": "code",
   "source": [
    "p0 = heatmap(X[:,:,1], yflip=true, color=:greys, legend=false, xaxis=false, yaxis=false, xticks=false, yticks=false);\n",
    "p1 = plot_tfbdry2(p0,bbtree, line_color=:red)\n",
    "plot!(p1, title=\"Best basis\", size=(500,500))\n",
    "savefig(\"assets/bestbasis.png\")"
   ],
   "metadata": {},
   "execution_count": null
  },
  {
   "cell_type": "markdown",
   "source": [
    "![alt text](../assets/bestbasis.png)\n",
    "\n",
    "In this representation, the regions in larger squares are covered by larger wavelets, so their resolution is coarser resolution, while small squares requires better resolution so they get covered by short wavelets."
   ],
   "metadata": {}
  },
  {
   "cell_type": "markdown",
   "source": [
    "### Low dimensional representation\n",
    "\n",
    "Using `bestbasistree` we can get the best wavelet basis. With the full basis we can perfectly recover the original signal (see next figure).However, our goal is to find a set of Nw<n_base wavelets, which may not be a perfect base, but they are able to efficiently represent the data.\n",
    "To do so, we use the `LocalDiscriminantBasis` function from Wavelets.jl"
   ],
   "metadata": {}
  },
  {
   "outputs": [],
   "cell_type": "code",
   "source": [
    "ldb = LocalDiscriminantBasis(\n",
    "    wt=wt,\n",
    "    max_dec_level=L,\n",
    ");"
   ],
   "metadata": {},
   "execution_count": null
  },
  {
   "cell_type": "markdown",
   "source": [
    "which is able to compute the best set of wavelets to classify a set of signal. To use this function, we replace the last signal in the collection with the average of our data, that will be used as discriminant"
   ],
   "metadata": {}
  },
  {
   "outputs": [],
   "cell_type": "code",
   "source": [
    "Xclass = copy(X)\n",
    "Xclass[:,:,end] .= mean(X[:,:,1:n_copies-1])"
   ],
   "metadata": {},
   "execution_count": null
  },
  {
   "cell_type": "markdown",
   "source": [
    "and we tell the algorithm to distinguish the real data from this background, giving it a different label"
   ],
   "metadata": {}
  },
  {
   "outputs": [],
   "cell_type": "code",
   "source": [
    "label = ones(size(Xclass)[3])\n",
    "label[end] = 2"
   ],
   "metadata": {},
   "execution_count": null
  },
  {
   "cell_type": "markdown",
   "source": [
    "Now at the same time we calculate the transform Xt and the discriminant base ldb"
   ],
   "metadata": {}
  },
  {
   "outputs": [],
   "cell_type": "code",
   "source": [
    "Xt = fit_transform(ldb, Xclass, label);"
   ],
   "metadata": {},
   "execution_count": null
  },
  {
   "cell_type": "markdown",
   "source": [
    "and we can now look at how many wavelts we would need to discriminate our signal from the background"
   ],
   "metadata": {}
  },
  {
   "outputs": [],
   "cell_type": "code",
   "source": [
    "plot(ldb.DP[ldb.order], label=false, xaxis=\"# wavelets\", title=\"Discrimination error\",figsize=(400,300))\n",
    "savefig(\"assets/discrimiantionerror.png\")"
   ],
   "metadata": {},
   "execution_count": null
  },
  {
   "cell_type": "markdown",
   "source": [
    "![alt text](../assets/discrimiantionerror.png)\n",
    "\n",
    "While 64x64 = 4096 would give us a perfect basis, an elbow analysis let us conclude that we could get good results using significantly fewer wavelets. We can identify them using the following function"
   ],
   "metadata": {}
  },
  {
   "outputs": [],
   "cell_type": "code",
   "source": [
    "function get_basisvectors(nx::Integer,ny::Integer, wt::DiscreteWavelet, tree::BitVector,\n",
    "        idx::Vector{<:Integer})\n",
    "    k = length(idx)\n",
    "    y = Array{Float64,3}(undef, (nx,ny,k))\n",
    "    for (i,j) in enumerate(idx)\n",
    "        x = zeros(nx,ny)\n",
    "        x[j] = 1\n",
    "        y[:,:,i] = iwpt(x, wt, tree)\n",
    "    end\n",
    "    return y\n",
    "end"
   ],
   "metadata": {},
   "execution_count": null
  },
  {
   "cell_type": "markdown",
   "source": [
    "and we can also plot the first few of them"
   ],
   "metadata": {}
  },
  {
   "outputs": [],
   "cell_type": "code",
   "source": [
    "w_to_plot = 16\n",
    "t = floor(Int,sqrt(w_to_plot))\n",
    "bases = get_basisvectors(size(X)[1],size(X)[2], wt, ldb.tree, ldb.order[1:w_to_plot],);\n",
    "heatmaps = [heatmap(bases[:,:,i], yflip=true, color=:redsblues, legend=false, xaxis=false, yaxis=false, xticks=false, yticks=false) for i in 1:w_to_plot];\n",
    "plot(heatmaps..., layout=(t,t), size=(600,600), suptitle=\"Top $w_to_plot Wavelets\")\n",
    "savefig(\"assets/topwavelets.png\")"
   ],
   "metadata": {},
   "execution_count": null
  },
  {
   "cell_type": "markdown",
   "source": [
    "![alt text](../assets/topwavelets.png)"
   ],
   "metadata": {}
  },
  {
   "cell_type": "markdown",
   "source": [
    "And finally we can look at what happens if we transform back only the projection of the data onto the best `M` wavelets"
   ],
   "metadata": {}
  },
  {
   "outputs": [],
   "cell_type": "code",
   "source": [
    "M = 2000\n",
    "Xt = change_nfeatures(ldb, Xt, M);\n",
    "X_inv = inverse_transform(ldb, Xt);\n",
    "heatmaps = [heatmap(X_inv[:,:,i], yflip=true, color=:greys, legend=false, xaxis=false, yaxis=false, xticks=false, yticks=false) for i in 1:n_copies];\n",
    "plot(heatmaps..., layout=(sqrtn_copies,sqrtn_copies), size=(600,600), suptitle=\"Recostruction from $M Wavelets\")\n",
    "savefig(\"assets/lowdreconstruction.png\")"
   ],
   "metadata": {},
   "execution_count": null
  },
  {
   "cell_type": "markdown",
   "source": [
    "![alt text](../assets/lowdreconstruction.png)"
   ],
   "metadata": {}
  },
  {
   "cell_type": "markdown",
   "source": [
    "Let's do a final comparison with FFT starting from a high-res picture"
   ],
   "metadata": {}
  },
  {
   "outputs": [],
   "cell_type": "code",
   "source": [
    "img = testimage(\"cameraman\")\n",
    "img = imresize(img, (256, 256))\n",
    "Xhighres = convert(Array{Float64}, img)\n",
    "p0 = heatmap(Xhighres, yflip=true, color=:greys, legend=false, xaxis=false, yaxis=false, xticks=false, yticks=false, title=\"Original\", titlefont = font(8,\"Computer Modern\"));"
   ],
   "metadata": {},
   "execution_count": null
  },
  {
   "cell_type": "markdown",
   "source": [
    "We also use different DWT to give an idea of the waveletd dependent variability. The first method uses Haar L=2 wavelets"
   ],
   "metadata": {}
  },
  {
   "outputs": [],
   "cell_type": "code",
   "source": [
    "function DWT_method_1(M)\n",
    "    img = testimage(\"cameraman\")\n",
    "    img = imresize(img, (256, 256))\n",
    "    x = convert(Array{Float64}, img)\n",
    "    Xhighres = duplicatesignals(x, 2, 0, false)\n",
    "    Xhighres[:,:,2] .= mean(Xhighres[:,:,1])\n",
    "    label = [1, 2]\n",
    "    wt = wavelet(WT.haar);\n",
    "    L = 2\n",
    "    ldb = LocalDiscriminantBasis(\n",
    "        wt=wt,\n",
    "        max_dec_level=L,\n",
    "    );\n",
    "    Xdwt = fit_transform(ldb, Xhighres, label)\n",
    "    Xdwt = change_nfeatures(ldb, Xdwt, M)\n",
    "    X_inv = inverse_transform(ldb, Xdwt)\n",
    "    p1 = heatmap(X_inv[:,:,1], yflip=true, color=:greys, legend=false, xaxis=false, yaxis=false, xticks=false, yticks=false, title=\"M=$M Haar-L$L wavelets\", titlefont = font(9,\"Computer Modern\"));\n",
    "    return p1\n",
    "end"
   ],
   "metadata": {},
   "execution_count": null
  },
  {
   "cell_type": "markdown",
   "source": [
    "while the second one uses Daubechies-8 wavelets at L=7"
   ],
   "metadata": {}
  },
  {
   "outputs": [],
   "cell_type": "code",
   "source": [
    "function DWT_method_2(M)\n",
    "    img = testimage(\"cameraman\")\n",
    "    img = imresize(img, (256, 256))\n",
    "    x = convert(Array{Float64}, img)\n",
    "    Xhighres = duplicatesignals(x, 2, 0, false)\n",
    "    Xhighres[:,:,2] .= mean(Xhighres[:,:,1])\n",
    "    label = [1, 2]\n",
    "    wt = wavelet(WT.db10);\n",
    "    L = 7\n",
    "    ldb = LocalDiscriminantBasis(\n",
    "        wt=wt,\n",
    "        max_dec_level=L,\n",
    "    );\n",
    "    Xdwt = fit_transform(ldb, Xhighres, label)\n",
    "    Xdwt = change_nfeatures(ldb, Xdwt, M)\n",
    "    X_inv = inverse_transform(ldb, Xdwt)\n",
    "    p1 = heatmap(X_inv[:,:,1], yflip=true, color=:greys, legend=false, xaxis=false, yaxis=false, xticks=false, yticks=false, title=\"M=$M Db10-L$L wavelets\", titlefont = font(9,\"Computer Modern\"));\n",
    "    return p1\n",
    "end"
   ],
   "metadata": {},
   "execution_count": null
  },
  {
   "cell_type": "markdown",
   "source": [
    "and we compare it to FFT"
   ],
   "metadata": {}
  },
  {
   "outputs": [],
   "cell_type": "code",
   "source": [
    "function FFT_method(M,sqrtM)\n",
    "    img = testimage(\"cameraman\")\n",
    "    img = imresize(img, (256, 256))\n",
    "    x = convert(Array{Float64}, img)\n",
    "    Xhighres = duplicatesignals(x, 2, 0, false)\n",
    "    Xhighres[:,:,2] .= mean(Xhighres[:,:,1])\n",
    "    Xk_ft = fft(Xhighres)\n",
    "    Xk_ft[(sqrtM+1):end, :, :] .= 0\n",
    "    Xk_ft[:, (sqrtM+1):end, :] .= 0\n",
    "    Xrec_fft = real.(ifft(Xk_ft))\n",
    "    p2 = heatmap(Xrec_fft[:,:,1], yflip=true, color=:greys, legend=false, xaxis=false, yaxis=false, xticks=false, yticks=false,title=\"M=$M FFT modes\",titlefont = font(9,\"Computer Modern\"));\n",
    "    return p2\n",
    "end"
   ],
   "metadata": {},
   "execution_count": null
  },
  {
   "cell_type": "markdown",
   "source": [
    "we test for different values of M"
   ],
   "metadata": {}
  },
  {
   "outputs": [],
   "cell_type": "code",
   "source": [
    "sqrtMs = [10, 50, 100, 150, 200, 256]\n",
    "Ms = [i^2 for i in sqrtMs]\n",
    "plots = []\n",
    "for (M, sqrtM) in zip(Ms, sqrtMs)\n",
    "    push!(plots, p0)\n",
    "    push!(plots, DWT_method_1(M))\n",
    "    push!(plots, DWT_method_2(M))\n",
    "    push!(plots, FFT_method(M, sqrtM))\n",
    "end"
   ],
   "metadata": {},
   "execution_count": null
  },
  {
   "cell_type": "markdown",
   "source": [
    "producing a final plot"
   ],
   "metadata": {}
  },
  {
   "outputs": [],
   "cell_type": "code",
   "source": [
    "plot(plots..., layout=(length(Ms), 4), size=(800, 200 * length(Ms)))\n",
    "savefig(\"assets/wfcompare.png\")"
   ],
   "metadata": {},
   "execution_count": null
  },
  {
   "cell_type": "markdown",
   "source": [
    "![alt text](../assets/wfcompare.png)\n",
    "\n",
    "And now it is your turn to decide: do you like the low dimensional representation on the wavelet basis? Is it worth to explore compare to just reducing the resolution?"
   ],
   "metadata": {}
  },
  {
   "cell_type": "markdown",
   "source": [
    "## The incompressible Navier-Stokes equations\n",
    "\n",
    "The incompressible Navier-Stokes equations in a periodic box $\\Omega = [0,\n",
    "1]^2$ are comprised of the mass equation\n",
    "\n",
    "$$\n",
    "\\nabla \\cdot u = 0\n",
    "$$\n",
    "\n",
    "and the momentum equation\n",
    "\n",
    "$$\n",
    "\\frac{\\partial u}{\\partial t} = - \\nabla p - \\nabla \\cdot (u u^\\mathsf{T}) +\n",
    "\\nu \\nabla^2 u + f,\n",
    "$$\n",
    "\n",
    "where $p$ is the pressure, $u = (u_x, u_y)$ is the velocity, and $f = (f_x,\n",
    "f_y)$ is the body force.\n",
    "\n",
    "We parameterize the solution using Wavelets decomposition (Multi-Resolution Analysis):\n",
    "\n",
    "$$\n",
    "u(t) = \\sum_{j\\in\\mathbb{Z},k \\in \\mathbb{Z}^2} \\hat{u}_{jk}(t) \\psi_{jk},\n",
    "$$\n",
    "\n",
    "where we have constructed a basis using dyadic translations and dilatations of a mother wavelet $\\psi$ as follows:\n",
    "\n",
    "$$\n",
    "\\begin{align}\n",
    "\\psi_{jk} &= (\\psi_{jk_x}; \\psi_{jk_y}),\\\\\n",
    " & = \\left( 2^{-\\frac{j}{2}}\\psi(2^{-j} x-k_x) ; 2^{-\\frac{j}{2}}\\psi(2^{-j} y-k_y)\\right),\n",
    "\\end{align}\n",
    "$$\n",
    "\n",
    "where $j\\in \\mathbb{Z}$ is the scale parameter and $k\\in \\mathbb{Z}^2$ is the shift parameter.\n",
    "Later we will introduce differen types of mother wavelets $\\psi$.\n",
    "\n",
    "Then, instead of the continuous solution $u$, we now have a countable number of\n",
    "coefficients $\\hat{u}$.\n",
    "First, the mass equation then takes the form:\n",
    "\n",
    "$$\n",
    "\\begin{align}\n",
    "\\nabla \\cdot\\left( \\sum_{j,k} \\hat{u}_{jk}(t) \\psi_{jk}\\right) &= 0, \\\\\n",
    "\\frac{\\partial \\psi_{jk}}{\\partial x_i} \\hat{u}_{jk}(t) &= 0,\n",
    "\\end{align}\n",
    "$$\n",
    "\n",
    "which has to be respected $\\forall j \\in \\mathbb{Z}, k \\in \\mathbb{Z}^2$ and $\\forall t \\in \\mathbb{R}$.\n",
    "Similarly for the momentum equations we get:\n",
    "\n",
    "$$\n",
    "\\begin{align}\n",
    "\\sum_{j,k} \\Bigg( \\frac{\\partial \\hat{u}_{jk}(t)}{\\partial t} &= - (\\nabla \\psi_{jk})\\hat{p}(j,k,t) - (\\nabla \\psi_{jk}) \\widehat{u u^\\mathsf{T}}(j,k,t)  + \\frac{\\partial^2 \\psi_{jk}(x)}{\\partial^2 x} \\nu \\hat{u}(j,k,t) + \\hat{f}(j,k,t) \\Bigg)\\psi_{jk} \\\\\n",
    " \\frac{\\partial \\hat{u}_{jk}}{\\partial t} &= -\\frac{\\partial \\psi_{jk}}{\\partial x} \\hat{p}_{jk} + \\hat{F}(\\hat{u}),\n",
    "\\end{align}\n",
    "$$\n",
    "\n",
    "where $jk = (jk_x,jk_y)$ are the wavelets numbers and $\\hat{p}_{jk}$ are the wavelets\n",
    "coefficients of $p$, and similarly for $\\hat{u}_{jk} = (\\hat{u}_{jk,x}, \\hat{u}_{jk,y})$ and $\\hat{f}_{jk} = (\\hat{f}_{jk,x}, \\hat{f}_{jk,y})$.\n",
    "Note that the non-linear term $u u^\\mathsf{T}$ is still computed in physical\n",
    "space, as computing it in wavelet space would require evaluating a\n",
    "convolution integral instead of a point-wise product.\n",
    "Anyway, we put all the forcing terms into $\\hat{F}$ for now.\n",
    "\n",
    "Taking the time derivative of the mass equation gives a wavelet Poisson\n",
    "equation for the pressure:\n",
    "\n",
    "$$\n",
    "\\begin{align}\n",
    "\\frac{\\partial \\psi_{jk}(x)}{\\partial x_i} \\frac{\\partial \\hat{u}_{jk}}{\\partial t} &= 0,\n",
    "\\end{align}\n",
    "$$\n",
    "\n",
    "and using the momentum equation we get\n",
    "\n",
    "$$\n",
    "\\begin{align}\n",
    "\\Big\\|\\frac{\\partial \\psi_{jk}}{\\partial x}\\Big\\|^2 \\hat{p}_{jk} &= \\frac{\\partial \\psi_{jk}}{\\partial x}\\hat{F}(\\hat{u}),\n",
    "\\end{align}\n",
    "$$\n",
    "\n",
    "that we use to get an expression for the pressure\n",
    "\n",
    "$$\n",
    "\\begin{align}\n",
    "\\hat{p}_{jk} &= \\frac{\\frac{\\partial \\psi_{jk}}{\\partial x}\\hat{F}(\\hat{u})}{\\Big\\|\\frac{\\partial \\psi_{jk}}{\\partial x}\\Big\\|^2 }.\n",
    "\\end{align}\n",
    "$$\n",
    "\n",
    "We finally replace that in the momentum equation to get a pressure free equation:\n",
    "\n",
    "$$\n",
    "\\frac{\\partial \\hat{u}_{jk}}{\\partial t} = \\left(1 - \\frac{\\left(\\frac{\\partial \\psi_{jk}}{\\partial x}\\right)^2\n",
    "}{\\Big\\|\\frac{\\partial \\psi_{jk}}{\\partial x}\\Big\\|^2 } \\right) \\hat{F}(\\hat{u}) = P_{jk} \\hat{F}(\\hat{u}),\n",
    "$$\n",
    "\n",
    "where the pressure gradient is replaced by the wavelet-wise projection operator $P_{jk}$."
   ],
   "metadata": {}
  },
  {
   "cell_type": "markdown",
   "source": [
    "# See also\n",
    "\n",
    "- <https://github.com/agdestein/IncompressibleNavierStokes.jl>\n",
    "- <https://github.com/SciML>\n",
    "\n",
    "[^1]: S. G. Mallat (1999). _A Wavelet Tour of Signal Processing_\n",
    "      Academic Press. ISBN 0-12-466606-X."
   ],
   "metadata": {}
  },
  {
   "cell_type": "markdown",
   "source": [
    "---\n",
    "\n",
    "*This notebook was generated using [Literate.jl](https://github.com/fredrikekre/Literate.jl).*"
   ],
   "metadata": {}
  }
 ],
 "nbformat_minor": 3,
 "metadata": {
  "language_info": {
   "file_extension": ".jl",
   "mimetype": "application/julia",
   "name": "julia",
   "version": "1.9.4"
  },
  "kernelspec": {
   "name": "julia-1.9",
   "display_name": "Julia 1.9.4",
   "language": "julia"
  }
 },
 "nbformat": 4
}
